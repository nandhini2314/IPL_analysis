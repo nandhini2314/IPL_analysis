{
 "cells": [
  {
   "cell_type": "code",
   "execution_count": 0,
   "metadata": {
    "application/vnd.databricks.v1+cell": {
     "cellMetadata": {
      "byteLimit": 2048000,
      "rowLimit": 10000
     },
     "inputWidgets": {},
     "nuid": "1499fc1e-9a9c-467e-9928-07cc2b9ee32e",
     "showTitle": false,
     "title": ""
    }
   },
   "outputs": [
    {
     "output_type": "display_data",
     "data": {
      "text/html": [
       "\n",
       "            <div>\n",
       "                <p><b>SparkSession - hive</b></p>\n",
       "                \n",
       "        <div>\n",
       "            <p><b>SparkContext</b></p>\n",
       "\n",
       "            <p><a href=\"/?o=2205466172704116#setting/sparkui/0717-045828-b6ygh27z/driver-6187642153316431755\">Spark UI</a></p>\n",
       "\n",
       "            <dl>\n",
       "              <dt>Version</dt>\n",
       "                <dd><code>v3.3.2</code></dd>\n",
       "              <dt>Master</dt>\n",
       "                <dd><code>local[8]</code></dd>\n",
       "              <dt>AppName</dt>\n",
       "                <dd><code>Databricks Shell</code></dd>\n",
       "            </dl>\n",
       "        </div>\n",
       "        \n",
       "            </div>\n",
       "        "
      ]
     },
     "metadata": {
      "application/vnd.databricks.v1+output": {
       "addedWidgets": {},
       "arguments": {},
       "data": "\n            <div>\n                <p><b>SparkSession - hive</b></p>\n                \n        <div>\n            <p><b>SparkContext</b></p>\n\n            <p><a href=\"/?o=2205466172704116#setting/sparkui/0717-045828-b6ygh27z/driver-6187642153316431755\">Spark UI</a></p>\n\n            <dl>\n              <dt>Version</dt>\n                <dd><code>v3.3.2</code></dd>\n              <dt>Master</dt>\n                <dd><code>local[8]</code></dd>\n              <dt>AppName</dt>\n                <dd><code>Databricks Shell</code></dd>\n            </dl>\n        </div>\n        \n            </div>\n        ",
       "datasetInfos": [],
       "metadata": {},
       "removedWidgets": [],
       "textData": null,
       "type": "htmlSandbox"
      }
     },
     "output_type": "display_data"
    }
   ],
   "source": [
    "spark"
   ]
  },
  {
   "cell_type": "code",
   "execution_count": 0,
   "metadata": {
    "application/vnd.databricks.v1+cell": {
     "cellMetadata": {
      "byteLimit": 2048000,
      "rowLimit": 10000
     },
     "inputWidgets": {},
     "nuid": "5f4d88b8-603e-4a3b-9bc4-be7494e3fab2",
     "showTitle": false,
     "title": ""
    }
   },
   "outputs": [],
   "source": [
    "from pyspark.sql.types import StructField,StructType,IntegerType,StringType,BooleanType,DateType,DecimalType"
   ]
  },
  {
   "cell_type": "code",
   "execution_count": 0,
   "metadata": {
    "application/vnd.databricks.v1+cell": {
     "cellMetadata": {
      "byteLimit": 2048000,
      "rowLimit": 10000
     },
     "inputWidgets": {},
     "nuid": "7f76fb02-6306-4c86-9dde-fc39404f5c2b",
     "showTitle": false,
     "title": ""
    }
   },
   "outputs": [],
   "source": [
    "from pyspark.sql import SparkSession\n",
    "\n",
    "#Creation of session\n",
    "spark = SparkSession.builder.appName(\"IPL Data Analysis\").getOrCreate()\n",
    "# either get the app if alreayd built or else create"
   ]
  },
  {
   "cell_type": "code",
   "execution_count": 0,
   "metadata": {
    "application/vnd.databricks.v1+cell": {
     "cellMetadata": {
      "byteLimit": 2048000,
      "rowLimit": 10000
     },
     "inputWidgets": {},
     "nuid": "302ca123-2c0a-4e01-b677-a07e29c7084a",
     "showTitle": false,
     "title": ""
    }
   },
   "outputs": [
    {
     "output_type": "display_data",
     "data": {
      "text/html": [
       "\n",
       "            <div>\n",
       "                <p><b>SparkSession - hive</b></p>\n",
       "                \n",
       "        <div>\n",
       "            <p><b>SparkContext</b></p>\n",
       "\n",
       "            <p><a href=\"/?o=2205466172704116#setting/sparkui/0717-045828-b6ygh27z/driver-6187642153316431755\">Spark UI</a></p>\n",
       "\n",
       "            <dl>\n",
       "              <dt>Version</dt>\n",
       "                <dd><code>v3.3.2</code></dd>\n",
       "              <dt>Master</dt>\n",
       "                <dd><code>local[8]</code></dd>\n",
       "              <dt>AppName</dt>\n",
       "                <dd><code>Databricks Shell</code></dd>\n",
       "            </dl>\n",
       "        </div>\n",
       "        \n",
       "            </div>\n",
       "        "
      ]
     },
     "metadata": {
      "application/vnd.databricks.v1+output": {
       "addedWidgets": {},
       "arguments": {},
       "data": "\n            <div>\n                <p><b>SparkSession - hive</b></p>\n                \n        <div>\n            <p><b>SparkContext</b></p>\n\n            <p><a href=\"/?o=2205466172704116#setting/sparkui/0717-045828-b6ygh27z/driver-6187642153316431755\">Spark UI</a></p>\n\n            <dl>\n              <dt>Version</dt>\n                <dd><code>v3.3.2</code></dd>\n              <dt>Master</dt>\n                <dd><code>local[8]</code></dd>\n              <dt>AppName</dt>\n                <dd><code>Databricks Shell</code></dd>\n            </dl>\n        </div>\n        \n            </div>\n        ",
       "datasetInfos": [],
       "metadata": {},
       "removedWidgets": [],
       "textData": null,
       "type": "htmlSandbox"
      }
     },
     "output_type": "display_data"
    }
   ],
   "source": [
    "spark"
   ]
  },
  {
   "cell_type": "code",
   "execution_count": 0,
   "metadata": {
    "application/vnd.databricks.v1+cell": {
     "cellMetadata": {
      "byteLimit": 2048000,
      "rowLimit": 10000
     },
     "inputWidgets": {},
     "nuid": "ef4514f2-f253-4729-8100-6e5e41ac6b19",
     "showTitle": false,
     "title": ""
    }
   },
   "outputs": [],
   "source": [
    "ball_by_ball_schema = StructType([\n",
    "    StructField(\"match_id\", IntegerType(), True),\n",
    "    StructField(\"over_id\", IntegerType(), True),\n",
    "    StructField(\"ball_id\", IntegerType(), True),\n",
    "    StructField(\"innings_no\", IntegerType(), True),\n",
    "    StructField(\"team_batting\", StringType(), True),\n",
    "    StructField(\"team_bowling\", StringType(), True),\n",
    "    StructField(\"striker_batting_position\", IntegerType(), True),\n",
    "    StructField(\"extra_type\", StringType(), True),\n",
    "    StructField(\"runs_scored\", IntegerType(), True),\n",
    "    StructField(\"extra_runs\", IntegerType(), True),\n",
    "    StructField(\"wides\", IntegerType(), True),\n",
    "    StructField(\"legbyes\", IntegerType(), True),\n",
    "    StructField(\"byes\", IntegerType(), True),\n",
    "    StructField(\"noballs\", IntegerType(), True),\n",
    "    StructField(\"penalty\", IntegerType(), True),\n",
    "    StructField(\"bowler_extras\", IntegerType(), True),\n",
    "    StructField(\"out_type\", StringType(), True),\n",
    "    StructField(\"caught\", BooleanType(), True),\n",
    "    StructField(\"bowled\", BooleanType(), True),\n",
    "    StructField(\"run_out\", BooleanType(), True),\n",
    "    StructField(\"lbw\", BooleanType(), True),\n",
    "    StructField(\"retired_hurt\", BooleanType(), True),\n",
    "    StructField(\"stumped\", BooleanType(), True),\n",
    "    StructField(\"caught_and_bowled\", BooleanType(), True),\n",
    "    StructField(\"hit_wicket\", BooleanType(), True),\n",
    "    StructField(\"obstructingfeild\", BooleanType(), True),\n",
    "    StructField(\"bowler_wicket\", BooleanType(), True),\n",
    "    StructField(\"match_date\", DateType(), True),\n",
    "    StructField(\"season\", IntegerType(), True),\n",
    "    StructField(\"striker\", IntegerType(), True),\n",
    "    StructField(\"non_striker\", IntegerType(), True),\n",
    "    StructField(\"bowler\", IntegerType(), True),\n",
    "    StructField(\"player_out\", IntegerType(), True),\n",
    "    StructField(\"fielders\", IntegerType(), True),\n",
    "    StructField(\"striker_match_sk\", IntegerType(), True),\n",
    "    StructField(\"strikersk\", IntegerType(), True),\n",
    "    StructField(\"nonstriker_match_sk\", IntegerType(), True),\n",
    "    StructField(\"nonstriker_sk\", IntegerType(), True),\n",
    "    StructField(\"fielder_match_sk\", IntegerType(), True),\n",
    "    StructField(\"fielder_sk\", IntegerType(), True),\n",
    "    StructField(\"bowler_match_sk\", IntegerType(), True),\n",
    "    StructField(\"bowler_sk\", IntegerType(), True),\n",
    "    StructField(\"playerout_match_sk\", IntegerType(), True),\n",
    "    StructField(\"battingteam_sk\", IntegerType(), True),\n",
    "    StructField(\"bowlingteam_sk\", IntegerType(), True),\n",
    "    StructField(\"keeper_catch\", BooleanType(), True),\n",
    "    StructField(\"player_out_sk\", IntegerType(), True),\n",
    "    StructField(\"matchdatesk\", DateType(), True)\n",
    "])\n"
   ]
  },
  {
   "cell_type": "code",
   "execution_count": 0,
   "metadata": {
    "application/vnd.databricks.v1+cell": {
     "cellMetadata": {
      "byteLimit": 2048000,
      "rowLimit": 10000
     },
     "inputWidgets": {},
     "nuid": "1fd29a2c-f066-4028-9d34-c4d515a0c53e",
     "showTitle": false,
     "title": ""
    }
   },
   "outputs": [],
   "source": [
    "ball_by_ball_df = spark.read.schema(ball_by_ball_schema).format(\"csv\").option(\"header\",\"true\").load(\"s3://ipl-data-analysis-project/Ball_By_Ball.csv\")"
   ]
  },
  {
   "cell_type": "code",
   "execution_count": 0,
   "metadata": {
    "application/vnd.databricks.v1+cell": {
     "cellMetadata": {
      "byteLimit": 2048000,
      "rowLimit": 10000
     },
     "inputWidgets": {},
     "nuid": "d06653b1-1972-4f7e-928a-64b3b54a3910",
     "showTitle": false,
     "title": ""
    }
   },
   "outputs": [
    {
     "output_type": "stream",
     "name": "stdout",
     "output_type": "stream",
     "text": [
      "+--------+-------+-------+----------+------------+------------+------------------------+----------+-----------+----------+-----+-------+----+-------+-------+-------------+--------------+------+------+-------+----+------------+-------+-----------------+----------+----------------+-------------+----------+------+-------+-----------+------+----------+--------+----------------+---------+-------------------+-------------+----------------+----------+---------------+---------+------------------+--------------+--------------+------------+-------------+-----------+\n|match_id|over_id|ball_id|innings_no|team_batting|team_bowling|striker_batting_position|extra_type|runs_scored|extra_runs|wides|legbyes|byes|noballs|penalty|bowler_extras|      out_type|caught|bowled|run_out| lbw|retired_hurt|stumped|caught_and_bowled|hit_wicket|obstructingfeild|bowler_wicket|match_date|season|striker|non_striker|bowler|player_out|fielders|striker_match_sk|strikersk|nonstriker_match_sk|nonstriker_sk|fielder_match_sk|fielder_sk|bowler_match_sk|bowler_sk|playerout_match_sk|battingteam_sk|bowlingteam_sk|keeper_catch|player_out_sk|matchdatesk|\n+--------+-------+-------+----------+------------+------------+------------------------+----------+-----------+----------+-----+-------+----+-------+-------+-------------+--------------+------+------+-------+----+------------+-------+-----------------+----------+----------------+-------------+----------+------+-------+-----------+------+----------+--------+----------------+---------+-------------------+-------------+----------------+----------+---------------+---------+------------------+--------------+--------------+------------+-------------+-----------+\n|  598028|     15|      6|         1|           5|           2|                       6| No Extras|          4|         0|    0|      0|   0|      0|      0|            0|Not Applicable|  null|  null|   null|null|        null|   null|             null|      null|            null|         null|      null|  2013|    277|        104|    83|      null|    null|           20336|      276|              20333|          103|              -1|        -1|          20343|       82|                -1|             4|             1|        null|            0|       null|\n|  598028|     14|      1|         1|           5|           2|                       5| No Extras|          1|         0|    0|      0|   0|      0|      0|            0|Not Applicable|  null|  null|   null|null|        null|   null|             null|      null|            null|         null|      null|  2013|    104|          6|   346|      null|    null|           20333|      103|              20328|            5|              -1|        -1|          20348|      345|                -1|             4|             1|        null|            0|       null|\n|  598028|     14|      2|         1|           5|           2|                       3| No Extras|          1|         0|    0|      0|   0|      0|      0|            0|Not Applicable|  null|  null|   null|null|        null|   null|             null|      null|            null|         null|      null|  2013|      6|        104|   346|      null|    null|           20328|        5|              20333|          103|              -1|        -1|          20348|      345|                -1|             4|             1|        null|            0|       null|\n|  598028|     14|      3|         1|           5|           2|                       5| No Extras|          1|         0|    0|      0|   0|      0|      0|            0|Not Applicable|  null|  null|   null|null|        null|   null|             null|      null|            null|         null|      null|  2013|    104|          6|   346|      null|    null|           20333|      103|              20328|            5|              -1|        -1|          20348|      345|                -1|             4|             1|        null|            0|       null|\n|  598028|     14|      4|         1|           5|           2|                       3| No Extras|          0|         0|    0|      0|   0|      0|      0|            0|Not Applicable|  null|  null|   null|null|        null|   null|             null|      null|            null|         null|      null|  2013|      6|        104|   346|      null|    null|           20328|        5|              20333|          103|              -1|        -1|          20348|      345|                -1|             4|             1|        null|            0|       null|\n+--------+-------+-------+----------+------------+------------+------------------------+----------+-----------+----------+-----+-------+----+-------+-------+-------------+--------------+------+------+-------+----+------------+-------+-----------------+----------+----------------+-------------+----------+------+-------+-----------+------+----------+--------+----------------+---------+-------------------+-------------+----------------+----------+---------------+---------+------------------+--------------+--------------+------------+-------------+-----------+\nonly showing top 5 rows\n\n"
     ]
    }
   ],
   "source": [
    "ball_by_ball_df.show(5)"
   ]
  },
  {
   "cell_type": "code",
   "execution_count": 0,
   "metadata": {
    "application/vnd.databricks.v1+cell": {
     "cellMetadata": {
      "byteLimit": 2048000,
      "rowLimit": 10000
     },
     "inputWidgets": {},
     "nuid": "f5c21433-0ab2-42ca-817a-d0068ca6c3af",
     "showTitle": true,
     "title": "h"
    }
   },
   "outputs": [],
   "source": [
    "match_schema=StructType([StructField(\"match_sk\", IntegerType(), True),\n",
    "    StructField(\"match_id\", IntegerType(), True),\n",
    "    StructField(\"team1\", StringType(), True),\n",
    "    StructField(\"team2\", StringType(), True),\n",
    "    StructField(\"match_date\", DateType(), True),\n",
    "    StructField(\"season_year\", IntegerType(), True),\n",
    "    StructField(\"venue_name\", StringType(), True),\n",
    "    StructField(\"city_name\", StringType(), True),\n",
    "    StructField(\"country_name\", StringType(), True),\n",
    "    StructField(\"toss_winner\", StringType(), True),\n",
    "    StructField(\"match_winner\", StringType(), True),\n",
    "    StructField(\"toss_name\", StringType(), True),\n",
    "    StructField(\"win_type\", StringType(), True),\n",
    "    StructField(\"outcome_type\", StringType(), True),\n",
    "    StructField(\"manofmach\", StringType(), True),\n",
    "    StructField(\"win_margin\", IntegerType(), True),\n",
    "    StructField(\"country_id\", IntegerType(), True)\n",
    "])"
   ]
  },
  {
   "cell_type": "code",
   "execution_count": 0,
   "metadata": {
    "application/vnd.databricks.v1+cell": {
     "cellMetadata": {
      "byteLimit": 2048000,
      "rowLimit": 10000
     },
     "inputWidgets": {},
     "nuid": "ae136aa3-d6d3-492b-984b-a15d76a187d9",
     "showTitle": false,
     "title": ""
    }
   },
   "outputs": [],
   "source": [
    "match_df = spark.read.schema(match_schema).format(\"csv\").option(\"header\",\"true\").load(\"s3://ipl-data-analysis-project/Match.csv\")"
   ]
  },
  {
   "cell_type": "code",
   "execution_count": 0,
   "metadata": {
    "application/vnd.databricks.v1+cell": {
     "cellMetadata": {
      "byteLimit": 2048000,
      "rowLimit": 10000
     },
     "inputWidgets": {},
     "nuid": "c11984ea-dde6-4b10-a817-7d7a7f94aa96",
     "showTitle": false,
     "title": ""
    }
   },
   "outputs": [],
   "source": [
    "player_schema = StructType([\n",
    "    StructField(\"player_sk\", IntegerType(), True),\n",
    "    StructField(\"player_id\", IntegerType(), True),\n",
    "    StructField(\"player_name\", StringType(), True),\n",
    "    StructField(\"dob\", DateType(), True),\n",
    "    StructField(\"batting_hand\", StringType(), True),\n",
    "    StructField(\"bowling_skill\", StringType(), True),\n",
    "    StructField(\"country_name\", StringType(), True)\n",
    "])"
   ]
  },
  {
   "cell_type": "code",
   "execution_count": 0,
   "metadata": {
    "application/vnd.databricks.v1+cell": {
     "cellMetadata": {
      "byteLimit": 2048000,
      "rowLimit": 10000
     },
     "inputWidgets": {},
     "nuid": "13da6564-fd44-483e-953b-05b55c92bb87",
     "showTitle": false,
     "title": ""
    }
   },
   "outputs": [],
   "source": [
    "player_df = spark.read.schema(player_schema).format(\"csv\").option(\"header\",\"true\").load(\"s3://ipl-data-analysis-project/Player.csv\")"
   ]
  },
  {
   "cell_type": "code",
   "execution_count": 0,
   "metadata": {
    "application/vnd.databricks.v1+cell": {
     "cellMetadata": {
      "byteLimit": 2048000,
      "rowLimit": 10000
     },
     "inputWidgets": {},
     "nuid": "b9b256e9-5df2-43fc-8bf7-e8ba31b4768d",
     "showTitle": false,
     "title": ""
    }
   },
   "outputs": [],
   "source": [
    "player_match_schema =StructType([\n",
    "    StructField(\"player_match_sk\", IntegerType(), True),\n",
    "    StructField(\"playermatch_key\", DecimalType(), True),\n",
    "    StructField(\"match_id\", IntegerType(), True),\n",
    "    StructField(\"player_id\", IntegerType(), True),\n",
    "    StructField(\"player_name\", StringType(), True),\n",
    "    StructField(\"dob\", DateType(), True),\n",
    "    StructField(\"batting_hand\", StringType(), True),\n",
    "    StructField(\"bowling_skill\", StringType(), True),\n",
    "    StructField(\"country_name\", StringType(), True),\n",
    "    StructField(\"role_desc\", StringType(), True),\n",
    "    StructField(\"player_team\", StringType(), True),\n",
    "    StructField(\"opposit_team\", StringType(), True),\n",
    "    StructField(\"season_year\", IntegerType(), True),\n",
    "    StructField(\"is_manofthematch\", BooleanType(), True),\n",
    "    StructField(\"age_as_on_match\", IntegerType(), True),\n",
    "    StructField(\"isplayers_team_won\", BooleanType(), True),\n",
    "    StructField(\"batting_status\", StringType(), True),\n",
    "    StructField(\"bowling_status\", StringType(), True),\n",
    "    StructField(\"player_captain\", StringType(), True),\n",
    "    StructField(\"opposit_captain\", StringType(), True),\n",
    "    StructField(\"player_keeper\", StringType(), True),\n",
    "    StructField(\"opposit_keeper\", StringType(), True)\n",
    "])"
   ]
  },
  {
   "cell_type": "code",
   "execution_count": 0,
   "metadata": {
    "application/vnd.databricks.v1+cell": {
     "cellMetadata": {
      "byteLimit": 2048000,
      "rowLimit": 10000
     },
     "inputWidgets": {},
     "nuid": "eec77c56-e116-4e8f-ba59-5198ce9b1594",
     "showTitle": false,
     "title": ""
    }
   },
   "outputs": [],
   "source": [
    "player_match_df = spark.read.schema(player_match_schema).format(\"csv\").option(\"header\",\"true\").load(\"s3://ipl-data-analysis-project/Player_match.csv\")"
   ]
  },
  {
   "cell_type": "code",
   "execution_count": 0,
   "metadata": {
    "application/vnd.databricks.v1+cell": {
     "cellMetadata": {
      "byteLimit": 2048000,
      "rowLimit": 10000
     },
     "inputWidgets": {},
     "nuid": "ddf4ce11-bab5-459f-8ac1-deb37ec9f20e",
     "showTitle": false,
     "title": ""
    }
   },
   "outputs": [],
   "source": [
    "team_schema = StructType([\n",
    "    StructField(\"team_sk\", IntegerType(), True),\n",
    "    StructField(\"team_id\", IntegerType(), True),\n",
    "    StructField(\"team_name\", StringType(), True)\n",
    "])"
   ]
  },
  {
   "cell_type": "markdown",
   "metadata": {
    "application/vnd.databricks.v1+cell": {
     "cellMetadata": {
      "byteLimit": 2048000,
      "rowLimit": 10000
     },
     "inputWidgets": {},
     "nuid": "079456ec-c890-4d94-831a-c3963e4b88c4",
     "showTitle": false,
     "title": ""
    }
   },
   "source": [
    "true indicates that null value will be accepted in that column"
   ]
  },
  {
   "cell_type": "code",
   "execution_count": 0,
   "metadata": {
    "application/vnd.databricks.v1+cell": {
     "cellMetadata": {
      "byteLimit": 2048000,
      "rowLimit": 10000
     },
     "inputWidgets": {},
     "nuid": "6244bb8e-f47b-44a3-bb00-0bf5e1408f3f",
     "showTitle": false,
     "title": ""
    }
   },
   "outputs": [],
   "source": [
    "team_df = spark.read.schema(team_schema).format(\"csv\").option(\"header\",\"true\").load(\"s3://ipl-data-analysis-project/Team.csv\")"
   ]
  },
  {
   "cell_type": "markdown",
   "metadata": {
    "application/vnd.databricks.v1+cell": {
     "cellMetadata": {
      "byteLimit": 2048000,
      "rowLimit": 10000
     },
     "inputWidgets": {},
     "nuid": "13e96999-3686-4412-9561-72fd2056ed0f",
     "showTitle": false,
     "title": ""
    }
   },
   "source": [
    "filter to include only valid deliveries ie exclude wides and no balls"
   ]
  },
  {
   "cell_type": "code",
   "execution_count": 0,
   "metadata": {
    "application/vnd.databricks.v1+cell": {
     "cellMetadata": {
      "byteLimit": 2048000,
      "rowLimit": 10000
     },
     "inputWidgets": {},
     "nuid": "389a18dd-c998-4e2a-8287-a3f6afcabb05",
     "showTitle": false,
     "title": ""
    }
   },
   "outputs": [],
   "source": [
    "from pyspark.sql.functions import col,sum,when,avg,row_number\n",
    "ball_by_ball_df = ball_by_ball_df.filter((col(\"wides\") ==0) & (col(\"noballs\")==0))\n"
   ]
  },
  {
   "cell_type": "markdown",
   "metadata": {
    "application/vnd.databricks.v1+cell": {
     "cellMetadata": {},
     "inputWidgets": {},
     "nuid": "6e7bfefb-c37a-4258-880f-ea7302467289",
     "showTitle": false,
     "title": ""
    }
   },
   "source": [
    "calculate total and average eruns in each match and inning"
   ]
  },
  {
   "cell_type": "code",
   "execution_count": 0,
   "metadata": {
    "application/vnd.databricks.v1+cell": {
     "cellMetadata": {
      "byteLimit": 2048000,
      "rowLimit": 10000
     },
     "inputWidgets": {},
     "nuid": "5cb3da30-327e-4550-9baa-c29d9758d912",
     "showTitle": false,
     "title": ""
    }
   },
   "outputs": [],
   "source": [
    "total_and_avg = ball_by_ball_df.groupBy(\"match_id\",\"innings_no\").agg(\n",
    "  sum(\"runs_scored\").alias(\"total_runs\"),\n",
    "  avg(\"runs_scored\").alias(\"avg_runs\")\n",
    ")"
   ]
  },
  {
   "cell_type": "markdown",
   "metadata": {
    "application/vnd.databricks.v1+cell": {
     "cellMetadata": {},
     "inputWidgets": {},
     "nuid": "029f0959-0da6-4a50-bf3a-68a1d3c97beb",
     "showTitle": false,
     "title": ""
    }
   },
   "source": [
    "window function- calculate running total of runs in each amtch"
   ]
  },
  {
   "cell_type": "code",
   "execution_count": 0,
   "metadata": {
    "application/vnd.databricks.v1+cell": {
     "cellMetadata": {
      "byteLimit": 2048000,
      "rowLimit": 10000
     },
     "inputWidgets": {},
     "nuid": "f5679647-3f3b-45f5-8287-74f7ce4c97be",
     "showTitle": false,
     "title": ""
    }
   },
   "outputs": [],
   "source": [
    "from pyspark.sql import Window\n",
    "windowSpec = Window.partitionBy(\"match_id\",\"innings_no\").orderBy(\"over_id\")\n",
    "\n",
    "ball_by_ball_df = ball_by_ball_df.withColumn(\n",
    "  \"running_total_run\", sum(\"runs_scored\").over(windowSpec)\n",
    ")"
   ]
  },
  {
   "cell_type": "markdown",
   "metadata": {
    "application/vnd.databricks.v1+cell": {
     "cellMetadata": {},
     "inputWidgets": {},
     "nuid": "46cdcc6c-e069-4d3a-b375-f3e3950e547f",
     "showTitle": false,
     "title": ""
    }
   },
   "source": [
    "conditional fomratiing: flag for high impact balls (either wicket or more than 6 runs)"
   ]
  },
  {
   "cell_type": "code",
   "execution_count": 0,
   "metadata": {
    "application/vnd.databricks.v1+cell": {
     "cellMetadata": {
      "byteLimit": 2048000,
      "rowLimit": 10000
     },
     "inputWidgets": {},
     "nuid": "7a05a513-e298-4422-9d39-588616450c17",
     "showTitle": false,
     "title": ""
    }
   },
   "outputs": [],
   "source": [
    "ball_by_ball_df = ball_by_ball_df.withColumn(\n",
    "  \"high_impact\",\n",
    "  when(((col(\"runs_scored\")+ col(\"extra_runs\"))>6) | (col(\"bowler_wicket\")== True),True).otherwise(False)\n",
    ")"
   ]
  },
  {
   "cell_type": "code",
   "execution_count": 0,
   "metadata": {
    "application/vnd.databricks.v1+cell": {
     "cellMetadata": {
      "byteLimit": 2048000,
      "rowLimit": 10000
     },
     "inputWidgets": {},
     "nuid": "d12dac1a-a230-4217-9309-82356e9e0404",
     "showTitle": false,
     "title": ""
    }
   },
   "outputs": [
    {
     "output_type": "stream",
     "name": "stdout",
     "output_type": "stream",
     "text": [
      "+--------+-------+-------+----------+------------+------------+------------------------+----------+-----------+----------+-----+-------+----+-------+-------+-------------+--------------+------+------+-------+----+------------+-------+-----------------+----------+----------------+-------------+----------+------+-------+-----------+------+----------+--------+----------------+---------+-------------------+-------------+----------------+----------+---------------+---------+------------------+--------------+--------------+------------+-------------+-----------+-----------------+-----------+\n|match_id|over_id|ball_id|innings_no|team_batting|team_bowling|striker_batting_position|extra_type|runs_scored|extra_runs|wides|legbyes|byes|noballs|penalty|bowler_extras|      out_type|caught|bowled|run_out| lbw|retired_hurt|stumped|caught_and_bowled|hit_wicket|obstructingfeild|bowler_wicket|match_date|season|striker|non_striker|bowler|player_out|fielders|striker_match_sk|strikersk|nonstriker_match_sk|nonstriker_sk|fielder_match_sk|fielder_sk|bowler_match_sk|bowler_sk|playerout_match_sk|battingteam_sk|bowlingteam_sk|keeper_catch|player_out_sk|matchdatesk|running_total_run|high_impact|\n+--------+-------+-------+----------+------------+------------+------------------------+----------+-----------+----------+-----+-------+----+-------+-------+-------------+--------------+------+------+-------+----+------------+-------+-----------------+----------+----------------+-------------+----------+------+-------+-----------+------+----------+--------+----------------+---------+-------------------+-------------+----------------+----------+---------------+---------+------------------+--------------+--------------+------------+-------------+-----------+-----------------+-----------+\n|  335987|      1|      1|         1|           1|           2|                       1|   legbyes|          0|         1|    0|      1|   0|      0|      0|            0|Not Applicable|  null|  null|   null|null|        null|   null|             null|      null|            null|         null|      null|  2008|      1|          2|    14|      null|    null|           12705|        0|              12706|            1|              -1|        -1|          12702|       13|                -1|             0|             1|        null|            0|       null|                0|      false|\n|  335987|      1|      2|         1|           1|           2|                       2| No Extras|          0|         0|    0|      0|   0|      0|      0|            0|Not Applicable|  null|  null|   null|null|        null|   null|             null|      null|            null|         null|      null|  2008|      2|          1|    14|      null|    null|           12706|        1|              12705|            0|              -1|        -1|          12702|       13|                -1|             0|             1|        null|            0|       null|                0|      false|\n|  335987|      1|      4|         1|           1|           2|                       2| No Extras|          0|         0|    0|      0|   0|      0|      0|            0|Not Applicable|  null|  null|   null|null|        null|   null|             null|      null|            null|         null|      null|  2008|      2|          1|    14|      null|    null|           12706|        1|              12705|            0|              -1|        -1|          12702|       13|                -1|             0|             1|        null|            0|       null|                0|      false|\n|  335987|      1|      5|         1|           1|           2|                       2| No Extras|          0|         0|    0|      0|   0|      0|      0|            0|Not Applicable|  null|  null|   null|null|        null|   null|             null|      null|            null|         null|      null|  2008|      2|          1|    14|      null|    null|           12706|        1|              12705|            0|              -1|        -1|          12702|       13|                -1|             0|             1|        null|            0|       null|                0|      false|\n|  335987|      1|      6|         1|           1|           2|                       2| No Extras|          0|         0|    0|      0|   0|      0|      0|            0|Not Applicable|  null|  null|   null|null|        null|   null|             null|      null|            null|         null|      null|  2008|      2|          1|    14|      null|    null|           12706|        1|              12705|            0|              -1|        -1|          12702|       13|                -1|             0|             1|        null|            0|       null|                0|      false|\n+--------+-------+-------+----------+------------+------------+------------------------+----------+-----------+----------+-----+-------+----+-------+-------+-------------+--------------+------+------+-------+----+------------+-------+-----------------+----------+----------------+-------------+----------+------+-------+-----------+------+----------+--------+----------------+---------+-------------------+-------------+----------------+----------+---------------+---------+------------------+--------------+--------------+------------+-------------+-----------+-----------------+-----------+\nonly showing top 5 rows\n\n"
     ]
    }
   ],
   "source": [
    "ball_by_ball_df.show(5)"
   ]
  },
  {
   "cell_type": "code",
   "execution_count": 0,
   "metadata": {
    "application/vnd.databricks.v1+cell": {
     "cellMetadata": {
      "byteLimit": 2048000,
      "rowLimit": 10000
     },
     "inputWidgets": {},
     "nuid": "02f7cce0-0a5e-4576-81ed-189e1c9c417e",
     "showTitle": false,
     "title": ""
    }
   },
   "outputs": [],
   "source": [
    "from pyspark.sql.functions import *"
   ]
  },
  {
   "cell_type": "code",
   "execution_count": 0,
   "metadata": {
    "application/vnd.databricks.v1+cell": {
     "cellMetadata": {
      "byteLimit": 2048000,
      "rowLimit": 10000
     },
     "inputWidgets": {},
     "nuid": "1be50e39-e3a2-4e16-ace0-9e61395816a8",
     "showTitle": false,
     "title": ""
    }
   },
   "outputs": [
    {
     "output_type": "stream",
     "name": "stdout",
     "output_type": "stream",
     "text": [
      "+--------+--------+--------------------+--------------------+----------+-----------+--------------------+----------+------------+--------------------+--------------------+---------+--------+------------+-------------+----------+----------+----+-----+----+-------------------+---------------------+\n|match_sk|match_id|               team1|               team2|match_date|season_year|          venue_name| city_name|country_name|         toss_winner|        match_winner|toss_name|win_type|outcome_type|    manofmach|win_margin|country_id|year|month| day|win_margin_category|toss_and_match_winner|\n+--------+--------+--------------------+--------------------+----------+-----------+--------------------+----------+------------+--------------------+--------------------+---------+--------+------------+-------------+----------+----------+----+-----+----+-------------------+---------------------+\n|       0|  335987|Royal Challengers...|Kolkata Knight Ri...|      null|       2008|M Chinnaswamy Sta...| Bangalore|       India|Royal Challengers...|Kolkata Knight Ri...|    field|    runs|      Result|  BB McCullum|       140|         1|null| null|null|               High|                   No|\n|       1|  335988|     Kings XI Punjab| Chennai Super Kings|      null|       2008|Punjab Cricket As...|Chandigarh|       India| Chennai Super Kings| Chennai Super Kings|      bat|    runs|      Result|   MEK Hussey|        33|         1|null| null|null|                low|                  Yes|\n|       2|  335989|    Delhi Daredevils|    Rajasthan Royals|      null|       2008|    Feroz Shah Kotla|     Delhi|       India|    Rajasthan Royals|    Delhi Daredevils|      bat| wickets|      Result|  MF Maharoof|         9|         1|null| null|null|                low|                   No|\n|       3|  335990|      Mumbai Indians|Royal Challengers...|      null|       2008|    Wankhede Stadium|    Mumbai|       India|      Mumbai Indians|Royal Challengers...|      bat| wickets|      Result|   MV Boucher|         5|         1|null| null|null|                low|                   No|\n|       4|  335991|Kolkata Knight Ri...|     Deccan Chargers|      null|       2008|        Eden Gardens|   Kolkata|       India|     Deccan Chargers|Kolkata Knight Ri...|      bat| wickets|      Result|    DJ Hussey|         5|         1|null| null|null|                low|                   No|\n|       5|  335992|    Rajasthan Royals|     Kings XI Punjab|      null|       2008|Sawai Mansingh St...|    Jaipur|       India|     Kings XI Punjab|    Rajasthan Royals|      bat| wickets|      Result|    SR Watson|         6|         1|null| null|null|                low|                   No|\n|       6|  335993|     Deccan Chargers|    Delhi Daredevils|      null|       2008|Rajiv Gandhi Inte...| Hyderabad|       India|     Deccan Chargers|    Delhi Daredevils|      bat| wickets|      Result|     V Sehwag|         9|         1|null| null|null|                low|                   No|\n|       7|  335994| Chennai Super Kings|      Mumbai Indians|      null|       2008|MA Chidambaram St...|   Chennai|       India|      Mumbai Indians| Chennai Super Kings|    field|    runs|      Result|    ML Hayden|         6|         1|null| null|null|                low|                   No|\n|       8|  335995|     Deccan Chargers|    Rajasthan Royals|      null|       2008|Rajiv Gandhi Inte...| Hyderabad|       India|    Rajasthan Royals|    Rajasthan Royals|    field| wickets|      Result|    YK Pathan|         3|         1|null| null|null|                low|                  Yes|\n|       9|  335996|     Kings XI Punjab|      Mumbai Indians|      null|       2008|Punjab Cricket As...|Chandigarh|       India|      Mumbai Indians|     Kings XI Punjab|    field|    runs|      Result|KC Sangakkara|        66|         1|null| null|null|             Medium|                   No|\n|      10|  335997|Royal Challengers...|    Rajasthan Royals|      null|       2008|M Chinnaswamy Sta...| Bangalore|       India|    Rajasthan Royals|    Rajasthan Royals|    field| wickets|      Result|    SR Watson|         7|         1|null| null|null|                low|                  Yes|\n|      11|  335998| Chennai Super Kings|Kolkata Knight Ri...|      null|       2008|MA Chidambaram St...|   Chennai|       India|Kolkata Knight Ri...| Chennai Super Kings|      bat| wickets|      Result|     JDP Oram|         9|         1|null| null|null|                low|                   No|\n|      12|  335999|      Mumbai Indians|     Deccan Chargers|      null|       2008|Dr DY Patil Sport...|    Mumbai|       India|     Deccan Chargers|     Deccan Chargers|    field| wickets|      Result| AC Gilchrist|        10|         1|null| null|null|                low|                  Yes|\n|      13|  336000|     Kings XI Punjab|    Delhi Daredevils|      null|       2008|Punjab Cricket As...|Chandigarh|       India|    Delhi Daredevils|     Kings XI Punjab|      bat| wickets|      Result|    SM Katich|         4|         1|null| null|null|                low|                   No|\n|      14|  336001|Royal Challengers...| Chennai Super Kings|      null|       2008|M Chinnaswamy Sta...| Bangalore|       India| Chennai Super Kings| Chennai Super Kings|      bat|    runs|      Result|     MS Dhoni|        13|         1|null| null|null|                low|                  Yes|\n|      15|  336002|Kolkata Knight Ri...|      Mumbai Indians|      null|       2008|        Eden Gardens|   Kolkata|       India|Kolkata Knight Ri...|      Mumbai Indians|      bat| wickets|      Result|ST Jayasuriya|         7|         1|null| null|null|                low|                   No|\n|      16|  336003|    Delhi Daredevils|Royal Challengers...|      null|       2008|    Feroz Shah Kotla|     Delhi|       India|Royal Challengers...|    Delhi Daredevils|    field|    runs|      Result|   GD McGrath|        10|         1|null| null|null|                low|                   No|\n|      17|  336004|     Deccan Chargers|     Kings XI Punjab|      null|       2008|Rajiv Gandhi Inte...| Hyderabad|       India|     Kings XI Punjab|     Kings XI Punjab|    field| wickets|      Result|     SE Marsh|         7|         1|null| null|null|                low|                  Yes|\n|      18|  336005|    Rajasthan Royals|Kolkata Knight Ri...|      null|       2008|Sawai Mansingh St...|    Jaipur|       India|    Rajasthan Royals|    Rajasthan Royals|      bat|    runs|      Result|  SA Asnodkar|        45|         1|null| null|null|                low|                  Yes|\n|      19|  336006| Chennai Super Kings|    Delhi Daredevils|      null|       2008|MA Chidambaram St...|   Chennai|       India| Chennai Super Kings|    Delhi Daredevils|      bat| wickets|      Result|     V Sehwag|         8|         1|null| null|null|                low|                   No|\n+--------+--------+--------------------+--------------------+----------+-----------+--------------------+----------+------------+--------------------+--------------------+---------+--------+------------+-------------+----------+----------+----+-----+----+-------------------+---------------------+\nonly showing top 20 rows\n\n"
     ]
    }
   ],
   "source": [
    "match_df = match_df.withColumn(\"year\",year(\"match_date\"))\n",
    "match_df = match_df.withColumn(\"month\",month(\"match_date\"))\n",
    "match_df = match_df.withColumn(\"day\",dayofmonth(\"match_date\"))\n",
    "\n",
    "match_df = match_df.withColumn(\n",
    "    \"win_margin_category\",\n",
    "    when (col (\"win_margin\")>100,\"High\")\n",
    "    .when((col(\"win_margin\") >=50) & (col(\"win_margin\")<100) , \"Medium\")\n",
    "    .otherwise(\"low\")\n",
    "\n",
    ")\n",
    "match_df = match_df.withColumn(\n",
    "    \"toss_and_match_winner\",\n",
    "    when (col(\"toss_winner\") == col(\"match_winner\"),\"Yes\")\n",
    "    .otherwise(\"No\")\n",
    ")\n",
    "match_df.show()"
   ]
  },
  {
   "cell_type": "code",
   "execution_count": 0,
   "metadata": {
    "application/vnd.databricks.v1+cell": {
     "cellMetadata": {
      "byteLimit": 2048000,
      "rowLimit": 10000
     },
     "inputWidgets": {},
     "nuid": "792ce035-6d14-4c22-9409-9429718b5ff6",
     "showTitle": false,
     "title": ""
    }
   },
   "outputs": [
    {
     "output_type": "stream",
     "name": "stdout",
     "output_type": "stream",
     "text": [
      "+---------+---------+--------------+----+--------------+--------------------+------------+-------------+\n|player_sk|player_id|   player_name| dob|  batting_hand|       bowling_skill|country_name|batting_style|\n+---------+---------+--------------+----+--------------+--------------------+------------+-------------+\n|        0|        1|     scganguly|null| Left-hand bat|    Right-arm medium|       India|  Left-handed|\n|        1|        2|    bbmccullum|null|Right-hand bat|    Right-arm medium| New Zealand| right-handed|\n|        2|        3|     rtponting|null|Right-hand bat|    Right-arm medium|   Australia| right-handed|\n|        3|        4|      djhussey|null|Right-hand bat|  Right-arm offbreak|   Australia| right-handed|\n|        4|        5|mohammadhafeez|null|Right-hand bat|  Right-arm offbreak|    Pakistan| right-handed|\n|        5|        6|       rdravid|null|Right-hand bat|  Right-arm offbreak|       India| right-handed|\n|        6|        7|       wjaffer|null|Right-hand bat|  Right-arm offbreak|       India| right-handed|\n|        7|        8|        vkohli|null|Right-hand bat|    Right-arm medium|       India| right-handed|\n|        8|        9|      jhkallis|null|Right-hand bat|Right-arm fast-me...|South Africa| right-handed|\n|        9|       10|       clwhite|null|Right-hand bat|     Legbreak googly|   Australia| right-handed|\n|       10|       11|     mvboucher|null|Right-hand bat|    Right-arm medium|South Africa| right-handed|\n|       11|       12|        bakhil|null|Right-hand bat|Right-arm medium-...|       India| right-handed|\n|       12|       13|      aanoffke|null|Right-hand bat|Right-arm fast-me...|   Australia| right-handed|\n|       13|       14|        pkumar|null|Right-hand bat|    Right-arm medium|       India| right-handed|\n|       14|       15|         zkhan|null|Right-hand bat|Left-arm fast-medium|       India| right-handed|\n|       15|       16|       sbjoshi|null| Left-hand bat|Slow left-arm ort...|       India|  Left-handed|\n|       16|       17|       papatel|null| Left-hand bat|                 N/A|       India|  Left-handed|\n|       17|       18|      mlhayden|null| Left-hand bat|    Right-arm medium|   Australia|  Left-handed|\n|       18|       19|     mekhussey|null| Left-hand bat|    Right-arm medium|   Australia|  Left-handed|\n|       19|       20|       msdhoni|null|Right-hand bat|    Right-arm medium|       India| right-handed|\n+---------+---------+--------------+----+--------------+--------------------+------------+-------------+\nonly showing top 20 rows\n\n"
     ]
    }
   ],
   "source": [
    "player_df = player_df.withColumn(\"player_name\",lower(regexp_replace(\"player_name\",\"[^a-zA-Z0-9]\",\"\")))\n",
    "\n",
    "player_df = player_df.na.fill({\"batting_hand\":\"unknown\",\"bowling_skill\":\"unknown\"})\n",
    "\n",
    "player_df = player_df.withColumn(\n",
    "    \"batting_style\",when(col(\"batting_hand\").contains(\"left\"),\n",
    "    \"Left-handed\")\n",
    "    .when(col(\"batting_hand\").contains(\"Left\"),\n",
    "          \"Left-handed\")\n",
    "    .otherwise(\"right-handed\")\n",
    "    )\n",
    "\n",
    "player_df.show()"
   ]
  },
  {
   "cell_type": "code",
   "execution_count": 0,
   "metadata": {
    "application/vnd.databricks.v1+cell": {
     "cellMetadata": {
      "byteLimit": 2048000,
      "rowLimit": 10000
     },
     "inputWidgets": {},
     "nuid": "bf545cd2-25fa-4587-aa68-1f187b4bde92",
     "showTitle": false,
     "title": ""
    }
   },
   "outputs": [
    {
     "output_type": "stream",
     "name": "stdout",
     "output_type": "stream",
     "text": [
      "+---------------+---------------+--------+---------+---------------+----+--------------+--------------------+------------+---------+--------------------+--------------------+-----------+----------------+---------------+------------------+--------------+--------------+--------------+---------------+-------------+--------------+--------------+-----------------+\n|player_match_sk|playermatch_key|match_id|player_id|    player_name| dob|  batting_hand|       bowling_skill|country_name|role_desc|         player_team|        opposit_team|season_year|is_manofthematch|age_as_on_match|isplayers_team_won|batting_status|bowling_status|player_captain|opposit_captain|player_keeper|opposit_keeper|veteran_status|years_since_debut|\n+---------------+---------------+--------+---------+---------------+----+--------------+--------------------+------------+---------+--------------------+--------------------+-----------+----------------+---------------+------------------+--------------+--------------+--------------+---------------+-------------+--------------+--------------+-----------------+\n|             -1|             -1|      -1|       -1|            N/A|null|          null|                null|        null|     null|                null|                null|       null|            null|           null|              null|          null|          null|          null|           null|         null|          null|   Non-Veteran|             null|\n|          12694|           null|  335987|        6|       R Dravid|null|Right-hand bat|  Right-arm offbreak|       India|  Captain|Royal Challengers...|Kolkata Knight Ri...|       2008|            null|             35|              null|          null|          null|      R Dravid|     SC Ganguly|   MV Boucher|       WP Saha|       Veteran|               16|\n|          12695|           null|  335987|        7|       W Jaffer|null|Right-hand bat|  Right-arm offbreak|       India|   Player|Royal Challengers...|Kolkata Knight Ri...|       2008|            null|             30|              null|          null|          null|      R Dravid|     SC Ganguly|   MV Boucher|       WP Saha|   Non-Veteran|               16|\n|          12696|           null|  335987|        8|        V Kohli|null|Right-hand bat|    Right-arm medium|       India|   Player|Royal Challengers...|Kolkata Knight Ri...|       2008|            null|             20|              null|          null|          null|      R Dravid|     SC Ganguly|   MV Boucher|       WP Saha|   Non-Veteran|               16|\n|          12697|           null|  335987|        9|      JH Kallis|null|Right-hand bat|Right-arm fast-me...|South Africa|   Player|Royal Challengers...|Kolkata Knight Ri...|       2008|            null|             33|              null|          null|          null|      R Dravid|     SC Ganguly|   MV Boucher|       WP Saha|   Non-Veteran|               16|\n|          12698|           null|  335987|       10|       CL White|null|Right-hand bat|     Legbreak googly|   Australia|   Player|Royal Challengers...|Kolkata Knight Ri...|       2008|            null|             25|              null|          null|          null|      R Dravid|     SC Ganguly|   MV Boucher|       WP Saha|   Non-Veteran|               16|\n|          12699|           null|  335987|       11|     MV Boucher|null|Right-hand bat|    Right-arm medium|South Africa|   Keeper|Royal Challengers...|Kolkata Knight Ri...|       2008|            null|             32|              null|          null|          null|      R Dravid|     SC Ganguly|   MV Boucher|       WP Saha|   Non-Veteran|               16|\n|          12700|           null|  335987|       12|        B Akhil|null|Right-hand bat|Right-arm medium-...|       India|   Player|Royal Challengers...|Kolkata Knight Ri...|       2008|            null|             31|              null|          null|          null|      R Dravid|     SC Ganguly|   MV Boucher|       WP Saha|   Non-Veteran|               16|\n|          12701|           null|  335987|       13|      AA Noffke|null|Right-hand bat|Right-arm fast-me...|   Australia|   Player|Royal Challengers...|Kolkata Knight Ri...|       2008|            null|             31|              null|          null|          null|      R Dravid|     SC Ganguly|   MV Boucher|       WP Saha|   Non-Veteran|               16|\n|          12702|           null|  335987|       14|        P Kumar|null|Right-hand bat|    Right-arm medium|       India|   Player|Royal Challengers...|Kolkata Knight Ri...|       2008|            null|             22|              null|          null|          null|      R Dravid|     SC Ganguly|   MV Boucher|       WP Saha|   Non-Veteran|               16|\n|          12703|           null|  335987|       15|         Z Khan|null|Right-hand bat|Left-arm fast-medium|       India|   Player|Royal Challengers...|Kolkata Knight Ri...|       2008|            null|             30|              null|          null|          null|      R Dravid|     SC Ganguly|   MV Boucher|       WP Saha|   Non-Veteran|               16|\n|          12704|           null|  335987|       16|       SB Joshi|null| Left-hand bat|Slow left-arm ort...|       India|   Player|Royal Challengers...|Kolkata Knight Ri...|       2008|            null|             38|              null|          null|          null|      R Dravid|     SC Ganguly|   MV Boucher|       WP Saha|       Veteran|               16|\n|          12705|           null|  335987|        1|     SC Ganguly|null| Left-hand bat|    Right-arm medium|       India|  Captain|Kolkata Knight Ri...|Royal Challengers...|       2008|            null|             36|              null|          null|          null|    SC Ganguly|       R Dravid|      WP Saha|    MV Boucher|       Veteran|               16|\n|          12706|           null|  335987|        2|    BB McCullum|null|Right-hand bat|    Right-arm medium| New Zealand|   Player|Kolkata Knight Ri...|Royal Challengers...|       2008|            null|             27|              null|          null|          null|    SC Ganguly|       R Dravid|      WP Saha|    MV Boucher|   Non-Veteran|               16|\n|          12707|           null|  335987|        3|     RT Ponting|null|Right-hand bat|    Right-arm medium|   Australia|   Player|Kolkata Knight Ri...|Royal Challengers...|       2008|            null|             34|              null|          null|          null|    SC Ganguly|       R Dravid|      WP Saha|    MV Boucher|   Non-Veteran|               16|\n|          12708|           null|  335987|        4|      DJ Hussey|null|Right-hand bat|  Right-arm offbreak|   Australia|   Player|Kolkata Knight Ri...|Royal Challengers...|       2008|            null|             31|              null|          null|          null|    SC Ganguly|       R Dravid|      WP Saha|    MV Boucher|   Non-Veteran|               16|\n|          12709|           null|  335987|        5|Mohammad Hafeez|null|Right-hand bat|  Right-arm offbreak|    Pakistan|   Player|Kolkata Knight Ri...|Royal Challengers...|       2008|            null|             28|              null|          null|          null|    SC Ganguly|       R Dravid|      WP Saha|    MV Boucher|   Non-Veteran|               16|\n|          12710|           null|  335987|       62|        WP Saha|null|Right-hand bat|                 N/A|       India|   Keeper|Kolkata Knight Ri...|Royal Challengers...|       2008|            null|             24|              null|          null|          null|    SC Ganguly|       R Dravid|      WP Saha|    MV Boucher|   Non-Veteran|               16|\n|          12711|           null|  335987|       63|      LR Shukla|null|Right-hand bat|    Right-arm medium|       India|   Player|Kolkata Knight Ri...|Royal Challengers...|       2008|            null|             27|              null|          null|          null|    SC Ganguly|       R Dravid|      WP Saha|    MV Boucher|   Non-Veteran|               16|\n|          12712|           null|  335987|       82|     AB Agarkar|null|Right-hand bat|      Right-arm fast|       India|   Player|Kolkata Knight Ri...|Royal Challengers...|       2008|            null|             31|              null|          null|          null|    SC Ganguly|       R Dravid|      WP Saha|    MV Boucher|   Non-Veteran|               16|\n+---------------+---------------+--------+---------+---------------+----+--------------+--------------------+------------+---------+--------------------+--------------------+-----------+----------------+---------------+------------------+--------------+--------------+--------------+---------------+-------------+--------------+--------------+-----------------+\nonly showing top 20 rows\n\n"
     ]
    }
   ],
   "source": [
    "player_match_df = player_match_df.withColumn(\"veteran_status\",when(col(\"age_as_on_match\")>=35,\"Veteran\").otherwise(\"Non-Veteran\"))\n",
    "\n",
    "# player_match_df=player_match_df.filter(col(\"batting_status\")==!\"Did Not Bat\")\n",
    "\n",
    "player_match_df = player_match_df.withColumn(\"years_since_debut\",(year(current_date())-col(\"season_year\")))\n",
    "\n",
    "player_match_df.show()"
   ]
  },
  {
   "cell_type": "code",
   "execution_count": 0,
   "metadata": {
    "application/vnd.databricks.v1+cell": {
     "cellMetadata": {
      "byteLimit": 2048000,
      "rowLimit": 10000
     },
     "inputWidgets": {},
     "nuid": "83005099-a119-4a3c-bb6f-93e28ea1b16a",
     "showTitle": false,
     "title": ""
    }
   },
   "outputs": [],
   "source": [
    "ball_by_ball_df.createOrReplaceTempView(\"ball_by_ball\")\n",
    "match_df.createOrReplaceTempView(\"match\")\n",
    "player_df.createOrReplaceTempView(\"player\")\n",
    "player_match_df.createOrReplaceTempView(\"player_match\")\n",
    "team_df.createOrReplaceTempView(\"team\")"
   ]
  },
  {
   "cell_type": "markdown",
   "metadata": {
    "application/vnd.databricks.v1+cell": {
     "cellMetadata": {},
     "inputWidgets": {},
     "nuid": "11770ae4-ad07-44dd-a1af-2a29356b2576",
     "showTitle": false,
     "title": ""
    }
   },
   "source": [
    "converted the above into sql tables"
   ]
  },
  {
   "cell_type": "code",
   "execution_count": 0,
   "metadata": {
    "application/vnd.databricks.v1+cell": {
     "cellMetadata": {
      "byteLimit": 2048000,
      "rowLimit": 10000
     },
     "inputWidgets": {},
     "nuid": "aec2444b-d4ff-48e9-83ab-e09de0ea604e",
     "showTitle": false,
     "title": ""
    }
   },
   "outputs": [],
   "source": [
    "top_scoring_batsmen_per_season = spark.sql(\"\"\"\n",
    "   select p.player_name,m.season_year, sum(b.runs_scored) as total_runs from match m join ball_by_ball b on b.match_id = m.match_id \n",
    "   join player_match pm on m.match_id = pm.match_id and b.striker = pm.player_id\n",
    "   join player p on p.player_id = pm.player_id    \n",
    "   group by p.player_name,m.season_year\n",
    "   order by m.season_year, total_runs desc                                 \"\"\")"
   ]
  },
  {
   "cell_type": "code",
   "execution_count": 0,
   "metadata": {
    "application/vnd.databricks.v1+cell": {
     "cellMetadata": {
      "byteLimit": 2048000,
      "rowLimit": 10000
     },
     "inputWidgets": {},
     "nuid": "d068b0cd-1018-46b6-84f5-b755314bb2e9",
     "showTitle": false,
     "title": ""
    }
   },
   "outputs": [
    {
     "output_type": "stream",
     "name": "stdout",
     "output_type": "stream",
     "text": [
      "+------------+-----------+----------+\n| player_name|season_year|total_runs|\n+------------+-----------+----------+\n|     semarsh|       2008|       614|\n|    ggambhir|       2008|       532|\n|stjayasuriya|       2008|       508|\n|    srwatson|       2008|       463|\n|     gcsmith|       2008|       437|\n+------------+-----------+----------+\nonly showing top 5 rows\n\n"
     ]
    }
   ],
   "source": [
    "top_scoring_batsmen_per_season.show(5)"
   ]
  },
  {
   "cell_type": "code",
   "execution_count": 0,
   "metadata": {
    "application/vnd.databricks.v1+cell": {
     "cellMetadata": {
      "byteLimit": 2048000,
      "rowLimit": 10000
     },
     "inputWidgets": {},
     "nuid": "f28bc79a-52db-4602-8a4a-a7294d189c73",
     "showTitle": false,
     "title": ""
    }
   },
   "outputs": [
    {
     "output_type": "stream",
     "name": "stdout",
     "output_type": "stream",
     "text": [
      "+--------+--------------------+--------------------+---------+-------------+\n|match_id|        match_winner|         toss_winner|toss_name|match_outcome|\n+--------+--------------------+--------------------+---------+-------------+\n|  335987|Kolkata Knight Ri...|Royal Challengers...|    field|         Lost|\n|  335988| Chennai Super Kings| Chennai Super Kings|      bat|          Won|\n|  335989|    Delhi Daredevils|    Rajasthan Royals|      bat|         Lost|\n|  335990|Royal Challengers...|      Mumbai Indians|      bat|         Lost|\n|  335991|Kolkata Knight Ri...|     Deccan Chargers|      bat|         Lost|\n|  335992|    Rajasthan Royals|     Kings XI Punjab|      bat|         Lost|\n|  335993|    Delhi Daredevils|     Deccan Chargers|      bat|         Lost|\n|  335994| Chennai Super Kings|      Mumbai Indians|    field|         Lost|\n|  335995|    Rajasthan Royals|    Rajasthan Royals|    field|          Won|\n|  335996|     Kings XI Punjab|      Mumbai Indians|    field|         Lost|\n|  335997|    Rajasthan Royals|    Rajasthan Royals|    field|          Won|\n|  335998| Chennai Super Kings|Kolkata Knight Ri...|      bat|         Lost|\n|  335999|     Deccan Chargers|     Deccan Chargers|    field|          Won|\n|  336000|     Kings XI Punjab|    Delhi Daredevils|      bat|         Lost|\n|  336001| Chennai Super Kings| Chennai Super Kings|      bat|          Won|\n|  336002|      Mumbai Indians|Kolkata Knight Ri...|      bat|         Lost|\n|  336003|    Delhi Daredevils|Royal Challengers...|    field|         Lost|\n|  336004|     Kings XI Punjab|     Kings XI Punjab|    field|          Won|\n|  336005|    Rajasthan Royals|    Rajasthan Royals|      bat|          Won|\n|  336006|    Delhi Daredevils| Chennai Super Kings|      bat|         Lost|\n+--------+--------------------+--------------------+---------+-------------+\nonly showing top 20 rows\n\n"
     ]
    }
   ],
   "source": [
    "toss_impact = spark.sql(\"\"\"\n",
    "select m.match_id,m.match_winner,m.toss_winner,m.toss_name,\n",
    "case\n",
    "when m.toss_winner = m.match_winner then \"Won\" else \"Lost\" end as match_outcome\n",
    "from match m \n",
    "where m.toss_name is not null\n",
    "order by m.match_id\n",
    "\n",
    "                        \"\"\")\n",
    "toss_impact.show()"
   ]
  },
  {
   "cell_type": "code",
   "execution_count": 0,
   "metadata": {
    "application/vnd.databricks.v1+cell": {
     "cellMetadata": {
      "byteLimit": 2048000,
      "rowLimit": 10000
     },
     "inputWidgets": {},
     "nuid": "91489b4c-737d-4ba7-aaf7-f3a6338d261a",
     "showTitle": false,
     "title": ""
    }
   },
   "outputs": [],
   "source": [
    "import matplotlib.pyplot as plt\n",
    "import seaborn as sns"
   ]
  },
  {
   "cell_type": "code",
   "execution_count": 0,
   "metadata": {
    "application/vnd.databricks.v1+cell": {
     "cellMetadata": {
      "byteLimit": 2048000,
      "rowLimit": 10000
     },
     "inputWidgets": {},
     "nuid": "8e69b5f6-78d0-4c59-89b1-70c03cb94ec3",
     "showTitle": false,
     "title": ""
    }
   },
   "outputs": [
    {
     "output_type": "display_data",
     "data": {
      "image/png": "[encoded data removed]"
     },
     "metadata": {
      "application/vnd.databricks.v1+output": {
       "addedWidgets": {},
       "arguments": {},
       "data": "data:image/png;base64,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\n",
       "datasetInfos": [],
       "metadata": {},
       "removedWidgets": [],
       "type": "image"
      }
     },
     "output_type": "display_data"
    }
   ],
   "source": [
    "toss_impact_pd = toss_impact.toPandas()\n",
    "#createing countplot tp show win/loss after winnign toss.\n",
    "plt.figure(figsize=(10,6))\n",
    "sns.countplot(x='toss_winner',hue='match_outcome',data=toss_impact_pd)\n",
    "plt.title(\"Impact of toss win on match win\")\n",
    "plt.xlabel(\"Toss Winner\")\n",
    "plt.ylabel(\"number of matches\")\n",
    "plt.tight_layout()\n",
    "plt.xticks(rotation=45)\n",
    "plt.show()\n",
    "\n"
   ]
  },
  {
   "cell_type": "code",
   "execution_count": 0,
   "metadata": {
    "application/vnd.databricks.v1+cell": {
     "cellMetadata": {},
     "inputWidgets": {},
     "nuid": "7ab2ae83-abca-4a96-b0f3-e63cb6443165",
     "showTitle": false,
     "title": ""
    }
   },
   "outputs": [],
   "source": []
  }
 ],
 "metadata": {
  "application/vnd.databricks.v1+notebook": {
   "dashboards": [],
   "environmentMetadata": null,
   "language": "python",
   "notebookMetadata": {
    "pythonIndentUnit": 4
   },
   "notebookName": "IPL_data_analysis",
   "widgets": {}
  }
 },
 "nbformat": 4,
 "nbformat_minor": 0
}
